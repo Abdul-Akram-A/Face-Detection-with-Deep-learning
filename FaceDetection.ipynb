{
 "cells": [
  {
   "cell_type": "markdown",
   "metadata": {},
   "source": [
    "### **Collect Image Using OpenCv**"
   ]
  },
  {
   "cell_type": "code",
   "execution_count": 1,
   "metadata": {},
   "outputs": [],
   "source": [
    "import os\n",
    "import uuid\n",
    "import cv2\n",
    "import time\n",
    "import labelme"
   ]
  },
  {
   "cell_type": "code",
   "execution_count": 34,
   "metadata": {},
   "outputs": [],
   "source": [
    "Image_path=os.path.join(\"data\",\"images\")\n",
    "number_images = 30"
   ]
  },
  {
   "cell_type": "code",
   "execution_count": null,
   "metadata": {},
   "outputs": [],
   "source": [
    "cap=cv2.VideoCapture(0)\n",
    "for imagenum in range(number_images):\n",
    "    print(f\"Capture Image {imagenum}\")\n",
    "    ret,frame=cap.read()\n",
    "    imagename=os.path.join(Image_path,f\"{str(uuid.uuid1())}.jpeg\")\n",
    "    cv2.imwrite(imagename,frame)\n",
    "    cv2.imshow(\"frame\",frame)\n",
    "    time.sleep(1)\n",
    "    if cv2.waitKey(1) & 0xFF == ord('q'):\n",
    "        break\n",
    "\n",
    "cap.release()\n",
    "cv2.destroyAllWindows()"
   ]
  },
  {
   "cell_type": "markdown",
   "metadata": {},
   "source": [
    "#### Annotate images with Lables"
   ]
  },
  {
   "cell_type": "code",
   "execution_count": null,
   "metadata": {},
   "outputs": [
    {
     "name": "stderr",
     "output_type": "stream",
     "text": [
      "2024-04-21 19:38:21,796 [INFO   ] __init__:get_config:67- Loading config file from: C:\\Users\\abdul\\.labelmerc\n"
     ]
    }
   ],
   "source": [
    "!labelme"
   ]
  },
  {
   "cell_type": "markdown",
   "metadata": {},
   "source": [
    "### **Review Dataset and Build Image Loadig Function**"
   ]
  },
  {
   "cell_type": "code",
   "execution_count": 3,
   "metadata": {},
   "outputs": [],
   "source": [
    "\n",
    "import tensorflow as tf\n",
    "import matplotlib.pyplot as plt\n",
    "import cv2\n",
    "import json\n",
    "import numpy as np"
   ]
  },
  {
   "cell_type": "code",
   "execution_count": 3,
   "metadata": {},
   "outputs": [],
   "source": [
    "#Set up CUDA\n",
    "gpus=tf.config.experimental.list_physical_devices(\"GPU\")\n",
    "for gpu in gpus:\n",
    "    tf.config.experimental.set_memory_growth(gpu,True)"
   ]
  },
  {
   "cell_type": "code",
   "execution_count": 4,
   "metadata": {},
   "outputs": [
    {
     "name": "stdout",
     "output_type": "stream",
     "text": [
      "[PhysicalDevice(name='/physical_device:GPU:0', device_type='GPU')]\n"
     ]
    }
   ],
   "source": [
    "print(tf.config.list_physical_devices('GPU'))"
   ]
  },
  {
   "cell_type": "markdown",
   "metadata": {},
   "source": [
    "##### Load image data into TF pipeline"
   ]
  },
  {
   "cell_type": "code",
   "execution_count": null,
   "metadata": {},
   "outputs": [],
   "source": [
    "image_pipeline=tf.data.Dataset.list_files(\"data\\\\images\\\\*.jpeg\",shuffle=False)"
   ]
  },
  {
   "cell_type": "code",
   "execution_count": null,
   "metadata": {},
   "outputs": [
    {
     "data": {
      "text/plain": [
       "b'data\\\\images\\\\10cfaad2-ffe8-11ee-a8a6-200b743244f1.jpeg'"
      ]
     },
     "execution_count": 19,
     "metadata": {},
     "output_type": "execute_result"
    }
   ],
   "source": [
    "image_pipeline.as_numpy_iterator().next()"
   ]
  },
  {
   "cell_type": "code",
   "execution_count": 6,
   "metadata": {},
   "outputs": [],
   "source": [
    "def load_image(x):\n",
    "    byte_image=tf.io.read_file(x)\n",
    "    img=tf.io.decode_jpeg(byte_image)\n",
    "    return img"
   ]
  },
  {
   "cell_type": "code",
   "execution_count": null,
   "metadata": {},
   "outputs": [],
   "source": [
    "images=image_pipeline.map(load_image)"
   ]
  },
  {
   "cell_type": "code",
   "execution_count": null,
   "metadata": {},
   "outputs": [],
   "source": [
    "# from tensorflow.keras.preprocessing.image import array_to_img,load_img"
   ]
  },
  {
   "cell_type": "code",
   "execution_count": null,
   "metadata": {},
   "outputs": [
    {
     "data": {
      "text/plain": [
       "array([[[72, 86, 89],\n",
       "        [74, 85, 89],\n",
       "        [75, 85, 87],\n",
       "        ...,\n",
       "        [83, 87, 90],\n",
       "        [82, 86, 89],\n",
       "        [83, 87, 90]],\n",
       "\n",
       "       [[76, 90, 93],\n",
       "        [76, 87, 89],\n",
       "        [75, 85, 87],\n",
       "        ...,\n",
       "        [81, 85, 88],\n",
       "        [81, 85, 88],\n",
       "        [81, 85, 88]],\n",
       "\n",
       "       [[79, 93, 94],\n",
       "        [78, 90, 90],\n",
       "        [76, 86, 87],\n",
       "        ...,\n",
       "        [78, 82, 85],\n",
       "        [79, 83, 86],\n",
       "        [80, 84, 87]],\n",
       "\n",
       "       ...,\n",
       "\n",
       "       [[54, 54, 54],\n",
       "        [36, 36, 36],\n",
       "        [31, 29, 30],\n",
       "        ...,\n",
       "        [32, 32, 30],\n",
       "        [30, 31, 26],\n",
       "        [28, 29, 24]],\n",
       "\n",
       "       [[51, 51, 51],\n",
       "        [34, 34, 34],\n",
       "        [31, 30, 28],\n",
       "        ...,\n",
       "        [31, 31, 29],\n",
       "        [29, 30, 25],\n",
       "        [28, 29, 24]],\n",
       "\n",
       "       [[48, 48, 48],\n",
       "        [33, 33, 33],\n",
       "        [31, 30, 28],\n",
       "        ...,\n",
       "        [30, 30, 28],\n",
       "        [29, 30, 25],\n",
       "        [29, 30, 25]]], dtype=uint8)"
      ]
     },
     "execution_count": 42,
     "metadata": {},
     "output_type": "execute_result"
    }
   ],
   "source": [
    "images.as_numpy_iterator().next()"
   ]
  },
  {
   "cell_type": "code",
   "execution_count": null,
   "metadata": {},
   "outputs": [
    {
     "data": {
      "text/plain": [
       "tensorflow.python.data.ops.map_op._MapDataset"
      ]
     },
     "execution_count": 43,
     "metadata": {},
     "output_type": "execute_result"
    }
   ],
   "source": [
    "type(images)"
   ]
  },
  {
   "cell_type": "markdown",
   "metadata": {},
   "source": [
    "#### Visualize Image"
   ]
  },
  {
   "cell_type": "code",
   "execution_count": null,
   "metadata": {},
   "outputs": [],
   "source": [
    "image_generator=images.batch(4).as_numpy_iterator()\n"
   ]
  },
  {
   "cell_type": "code",
   "execution_count": null,
   "metadata": {},
   "outputs": [],
   "source": [
    "\n",
    "plot_image=image_generator.next()"
   ]
  },
  {
   "cell_type": "code",
   "execution_count": null,
   "metadata": {},
   "outputs": [
    {
     "data": {
      "text/plain": [
       "4"
      ]
     },
     "execution_count": 77,
     "metadata": {},
     "output_type": "execute_result"
    }
   ],
   "source": [
    "len(plot_image)\n",
    "    "
   ]
  },
  {
   "cell_type": "code",
   "execution_count": null,
   "metadata": {},
   "outputs": [],
   "source": [
    "fig,ax = plt.subplots(ncols=2,nrows=2,figsize=(5,4))\n",
    "for i in range(2):\n",
    "    for j in range(2):\n",
    "        ax[i,j].imshow(plot_image[i*2+j])\n",
    "        ax[i,j].axis(\"off\")\n",
    "plt.show()"
   ]
  },
  {
   "cell_type": "markdown",
   "metadata": {},
   "source": [
    "#### Partition Unaugmented Data"
   ]
  },
  {
   "cell_type": "code",
   "execution_count": null,
   "metadata": {},
   "outputs": [],
   "source": [
    "train_path=r\"data\\train\"\n",
    "test_path=r\"data\\test\"\n",
    "val_path=r\"data\\val\""
   ]
  },
  {
   "cell_type": "code",
   "execution_count": null,
   "metadata": {},
   "outputs": [],
   "source": [
    "import random"
   ]
  },
  {
   "cell_type": "code",
   "execution_count": null,
   "metadata": {},
   "outputs": [
    {
     "name": "stdout",
     "output_type": "stream",
     "text": [
      "Training set: 63\n",
      "Validation set: 14\n",
      "Test set: 13\n"
     ]
    }
   ],
   "source": [
    "path_list = os.listdir(\"data/images\")  # Assuming \"data/images\" is your directory path\n",
    "total_images = len(path_list)\n",
    "train_count = 63\n",
    "val_count = 14\n",
    "test_count = 13\n",
    "\n",
    "# Randomly select images for training set\n",
    "train_set = random.sample(path_list, train_count)\n",
    "\n",
    "# Remove selected images from path_list\n",
    "remaining_images = [image for image in path_list if image not in train_set]\n",
    "\n",
    "# Randomly select images for validation set\n",
    "val_set = random.sample(remaining_images, val_count)\n",
    "\n",
    "# Remove selected images from remaining_images\n",
    "remaining_images = [image for image in remaining_images if image not in val_set]\n",
    "\n",
    "# Randomly select images for test set\n",
    "test_set = random.sample(remaining_images, test_count)\n",
    "# Output the sets\n",
    "print(\"Training set:\", len(train_set))\n",
    "print(\"Validation set:\", len(val_set))\n",
    "print(\"Test set:\", len(test_set))"
   ]
  },
  {
   "cell_type": "code",
   "execution_count": null,
   "metadata": {},
   "outputs": [],
   "source": [
    "label_path=os.listdir(\"data/labels\")"
   ]
  },
  {
   "cell_type": "code",
   "execution_count": null,
   "metadata": {},
   "outputs": [],
   "source": [
    "train_label_list=[]\n",
    "for name in train_set:\n",
    "    file_name = os.path.splitext(name)[0]\n",
    "    for label in label_path:\n",
    "        if file_name.startswith(label.split(\".json\")[0]):\n",
    "            train_label_list.append(label)\n",
    "            break\n",
    "        "
   ]
  },
  {
   "cell_type": "code",
   "execution_count": null,
   "metadata": {},
   "outputs": [],
   "source": [
    "val_label_list=[]\n",
    "for name in val_set:\n",
    "    file_name = os.path.splitext(name)[0]\n",
    "    for label in label_path:\n",
    "        if file_name.startswith(label.split(\".json\")[0]):\n",
    "            val_label_list.append(label)\n",
    "            break\n",
    "        "
   ]
  },
  {
   "cell_type": "code",
   "execution_count": null,
   "metadata": {},
   "outputs": [],
   "source": [
    "test_label_list=[]\n",
    "for name in test_set:\n",
    "    file_name = os.path.splitext(name)[0]\n",
    "    for label in label_path:\n",
    "        if file_name.startswith(label.split(\".json\")[0]):\n",
    "            test_label_list.append(label)\n",
    "            break"
   ]
  },
  {
   "cell_type": "code",
   "execution_count": null,
   "metadata": {},
   "outputs": [
    {
     "data": {
      "text/plain": [
       "(58, 11, 10)"
      ]
     },
     "execution_count": 188,
     "metadata": {},
     "output_type": "execute_result"
    }
   ],
   "source": [
    "len(train_label_list),len(test_label_list),len(val_label_list)"
   ]
  },
  {
   "cell_type": "code",
   "execution_count": null,
   "metadata": {},
   "outputs": [
    {
     "data": {
      "text/plain": [
       "79"
      ]
     },
     "execution_count": 189,
     "metadata": {},
     "output_type": "execute_result"
    }
   ],
   "source": [
    "len(label_path)"
   ]
  },
  {
   "cell_type": "code",
   "execution_count": null,
   "metadata": {},
   "outputs": [
    {
     "data": {
      "text/plain": [
       "79"
      ]
     },
     "execution_count": 190,
     "metadata": {},
     "output_type": "execute_result"
    }
   ],
   "source": [
    "\n",
    "58+11+10"
   ]
  },
  {
   "cell_type": "code",
   "execution_count": null,
   "metadata": {},
   "outputs": [],
   "source": [
    "import shutil"
   ]
  },
  {
   "cell_type": "code",
   "execution_count": null,
   "metadata": {},
   "outputs": [],
   "source": [
    "# For  Image And Label Split\n",
    "def split_data(image_path,image_list,label_list):\n",
    "    for entry in os.scandir(image_path):\n",
    "        if entry.is_dir() and entry.name.endswith(\"images\"):\n",
    "            images_dir = entry.path\n",
    "            for image_name in image_list:\n",
    "                image_dir = os.path.join(\"data/images\",image_name)\n",
    "                shutil.copy(image_dir, images_dir)\n",
    "        elif entry.is_dir() and entry.name.endswith(\"labels\"):\n",
    "            labels_dir = entry.path\n",
    "            for label_name in label_list:\n",
    "                label_dir=os.path.join(\"data/labels\",label_name)\n",
    "                shutil.copy(label_dir,labels_dir)\n",
    "    return True"
   ]
  },
  {
   "cell_type": "code",
   "execution_count": null,
   "metadata": {},
   "outputs": [
    {
     "data": {
      "text/plain": [
       "True"
      ]
     },
     "execution_count": 210,
     "metadata": {},
     "output_type": "execute_result"
    }
   ],
   "source": [
    "split_data(train_path,train_set,train_label_list)\n",
    "split_data(val_path,val_set,val_label_list)\n",
    "split_data(test_path,test_set,test_label_list)"
   ]
  },
  {
   "cell_type": "markdown",
   "metadata": {},
   "source": [
    "### **Apply Image Augmentation on images and labels using Albumention**"
   ]
  },
  {
   "cell_type": "code",
   "execution_count": null,
   "metadata": {},
   "outputs": [],
   "source": [
    "import albumentations as alb"
   ]
  },
  {
   "cell_type": "code",
   "execution_count": null,
   "metadata": {},
   "outputs": [],
   "source": [
    "augmentor=alb.Compose([alb.RandomCrop(width=450,height=450),\n",
    "                       alb.HorizontalFlip(p=0.5),\n",
    "                       alb.RandomBrightnessContrast(p=0.2),\n",
    "                       alb.RandomGamma(p=0.2),\n",
    "                       alb.RGBShift(p=0.2),\n",
    "                       alb.VerticalFlip(p=0.5)],\n",
    "                      bbox_params=alb.BboxParams(format=\"albumentations\",\n",
    "                                                 label_fields=[\"class_label\"]))"
   ]
  },
  {
   "cell_type": "code",
   "execution_count": null,
   "metadata": {},
   "outputs": [],
   "source": [
    "#Test Annotation\n",
    "img=cv2.imread(os.path.join(\"data\",\"train\",\"images\",\"1f6a1e44-ffe8-11ee-85c0-200b743244f1.jpeg\"))"
   ]
  },
  {
   "cell_type": "code",
   "execution_count": null,
   "metadata": {},
   "outputs": [],
   "source": [
    "plt.imshow(cv2.cvtColor(img,cv2.COLOR_BGR2RGB))"
   ]
  },
  {
   "cell_type": "code",
   "execution_count": null,
   "metadata": {},
   "outputs": [],
   "source": [
    "label=json.load(open(os.path.join(\"data\",\"train\",\"labels\",\"1f6a1e44-ffe8-11ee-85c0-200b743244f1.json\"),\"r\"))"
   ]
  },
  {
   "cell_type": "code",
   "execution_count": null,
   "metadata": {},
   "outputs": [
    {
     "data": {
      "text/plain": [
       "[[314.9074074074074, 205.74074074074076],\n",
       " [492.68518518518516, 390.9259259259259]]"
      ]
     },
     "execution_count": 320,
     "metadata": {},
     "output_type": "execute_result"
    }
   ],
   "source": [
    "label[\"shapes\"][0][\"points\"]"
   ]
  },
  {
   "cell_type": "code",
   "execution_count": null,
   "metadata": {},
   "outputs": [
    {
     "name": "stdout",
     "output_type": "stream",
     "text": [
      "[314.9074074074074, 205.74074074074076, 492.68518518518516, 390.9259259259259]\n"
     ]
    }
   ],
   "source": [
    "cords=[0,0,0,0]\n",
    "cords[0]=label[\"shapes\"][0][\"points\"][0][0]\n",
    "cords[1]=label[\"shapes\"][0][\"points\"][0][1]\n",
    "\n",
    "cords[2]=label[\"shapes\"][0][\"points\"][1][0]\n",
    "cords[3]=label[\"shapes\"][0][\"points\"][1][1]\n",
    "print(cords)"
   ]
  },
  {
   "cell_type": "code",
   "execution_count": null,
   "metadata": {},
   "outputs": [
    {
     "data": {
      "text/plain": [
       "[0.49204282407407407,\n",
       " 0.4286265432098766,\n",
       " 0.7698206018518519,\n",
       " 0.814429012345679]"
      ]
     },
     "execution_count": 322,
     "metadata": {},
     "output_type": "execute_result"
    }
   ],
   "source": [
    "cords=list(np.divide(cords,[640,480,640,480]))\n",
    "cords"
   ]
  },
  {
   "cell_type": "code",
   "execution_count": null,
   "metadata": {},
   "outputs": [],
   "source": [
    "augmented=augmentor(image=img,bboxes=[cords],class_label=[\"face\"])"
   ]
  },
  {
   "cell_type": "code",
   "execution_count": null,
   "metadata": {},
   "outputs": [
    {
     "data": {
      "text/plain": [
       "{'image': array([[[146, 158, 158],\n",
       "         [147, 159, 159],\n",
       "         [147, 159, 159],\n",
       "         ...,\n",
       "         [150, 147, 126],\n",
       "         [148, 146, 125],\n",
       "         [148, 145, 128]],\n",
       " \n",
       "        [[145, 159, 159],\n",
       "         [146, 160, 160],\n",
       "         [145, 159, 159],\n",
       "         ...,\n",
       "         [148, 146, 125],\n",
       "         [147, 145, 124],\n",
       "         [147, 144, 126]],\n",
       " \n",
       "        [[145, 159, 159],\n",
       "         [146, 160, 160],\n",
       "         [146, 160, 160],\n",
       "         ...,\n",
       "         [147, 145, 124],\n",
       "         [146, 144, 123],\n",
       "         [145, 143, 122]],\n",
       " \n",
       "        ...,\n",
       " \n",
       "        [[222, 216, 205],\n",
       "         [217, 211, 201],\n",
       "         [218, 212, 202],\n",
       "         ...,\n",
       "         [ 54,  78,  99],\n",
       "         [ 54,  78,  99],\n",
       "         [ 52,  78,  99]],\n",
       " \n",
       "        [[224, 218, 208],\n",
       "         [218, 212, 202],\n",
       "         [217, 211, 201],\n",
       "         ...,\n",
       "         [ 54,  78,  99],\n",
       "         [ 54,  78,  99],\n",
       "         [ 52,  78,  99]],\n",
       " \n",
       "        [[222, 216, 205],\n",
       "         [215, 212, 201],\n",
       "         [215, 212, 201],\n",
       "         ...,\n",
       "         [ 54,  78,  99],\n",
       "         [ 53,  76,  97],\n",
       "         [ 51,  75, 100]]], dtype=uint8),\n",
       " 'bboxes': [(0.09847736625514392,\n",
       "   0.39275720164609057,\n",
       "   0.49353909465020585,\n",
       "   0.8042798353909465)],\n",
       " 'class_label': ['face']}"
      ]
     },
     "execution_count": 324,
     "metadata": {},
     "output_type": "execute_result"
    }
   ],
   "source": [
    "augmented"
   ]
  },
  {
   "cell_type": "code",
   "execution_count": null,
   "metadata": {},
   "outputs": [
    {
     "data": {
      "text/plain": [
       "['face']"
      ]
     },
     "execution_count": 325,
     "metadata": {},
     "output_type": "execute_result"
    }
   ],
   "source": [
    "augmented[\"class_label\"]"
   ]
  },
  {
   "cell_type": "code",
   "execution_count": null,
   "metadata": {},
   "outputs": [],
   "source": [
    "import numpy as np\n",
    "\n",
    "cv2.rectangle(augmented[\"image\"],\n",
    "  tuple(np.multiply(augmented['bboxes'][0][:2], [450,450]).astype(int)),\n",
    "  tuple(np.multiply(augmented['bboxes'][0][2:], [450,450]).astype(int)),\n",
    "   (255,0,0), 2)\n",
    "plt. imshow(cv2.cvtColor(augmented['image'],cv2.COLOR_BGR2RGB))\n"
   ]
  },
  {
   "cell_type": "markdown",
   "metadata": {},
   "source": [
    "### **Build and Run Augmentation Pipeline**"
   ]
  },
  {
   "cell_type": "code",
   "execution_count": null,
   "metadata": {},
   "outputs": [],
   "source": [
    "\n",
    "for partition in [\"train\",\"test\",\"val\"]: \n",
    "    for image in os.listdir(os.path.join('data', partition, 'images')):\n",
    "        img = cv2.imread(os.path.join('data', partition, 'images', image))\n",
    "\n",
    "        coords = [0,0,0.00001,0.00001]\n",
    "        label_path = os.path.join('data', partition, 'labels', f'{image.split(\".\")[0]}.json')\n",
    "        if os.path.exists(label_path):\n",
    "            with open(label_path, 'r') as f:\n",
    "                label = json.load(f)\n",
    "\n",
    "            coords[0] = label['shapes'][0]['points'][0][0]\n",
    "            coords[1] = label['shapes'][0]['points'][0][1]\n",
    "            coords[2] = label['shapes'][0]['points'][1][0]\n",
    "            coords[3] = label['shapes'][0]['points'][1][1]\n",
    "            coords = list(np.divide(coords, [640,480,640,480]))\n",
    "\n",
    "        try: \n",
    "            for x in range(60):\n",
    "                augmented = augmentor(image=img, bboxes=[coords], class_label=['face'])\n",
    "                image_dir_path = os.path.join(\"aug_data\", partition, \"images\")\n",
    "                if not os.path.exists(image_dir_path):\n",
    "                    os.makedirs(image_dir_path)\n",
    "                cv2.imwrite(os.path.join('aug_data', partition, 'images', f'{image.split(\".\")[0]}.{x}.jpg'), augmented['image'])\n",
    "  \n",
    "                annotation = {}\n",
    "                annotation['image'] = image\n",
    "\n",
    "                if os.path.exists(label_path):\n",
    "                    if len(augmented['bboxes']) == 0: \n",
    "                        annotation['bbox'] = [0,0,0,0]\n",
    "                        annotation['class'] = 0 \n",
    "                    else: \n",
    "                        annotation['bbox'] = augmented['bboxes'][0]\n",
    "                        annotation['class'] = 1\n",
    "                else: \n",
    "                    annotation['bbox'] = [0,0,0,0]\n",
    "                    annotation['class'] = 0 \n",
    "                \n",
    "                label_dir_path = os.path.join(\"aug_data\", partition, \"labels\")\n",
    "                if not os.path.exists(label_dir_path):\n",
    "                    os.makedirs(label_dir_path)\n",
    "                with open(os.path.join('aug_data', partition, 'labels', f'{image.split(\".\")[0]}.{x}.json'), 'w') as f:\n",
    "                    json.dump(annotation, f)\n",
    "\n",
    "        except Exception as e:\n",
    "            print(e)"
   ]
  },
  {
   "cell_type": "code",
   "execution_count": 7,
   "metadata": {},
   "outputs": [],
   "source": [
    "## Load Augmented Images to Tensorflow Dataset\n",
    "train_images=tf.data.Dataset.list_files(\"aug_data\\\\train\\\\images\\\\*.jpg\",shuffle=False)\n",
    "train_images=train_images.map(load_image)\n",
    "train_images=train_images.map(lambda x: tf.image.resize(x,(120,120)))\n",
    "train_images=train_images.map(lambda x: x/255.0)"
   ]
  },
  {
   "cell_type": "code",
   "execution_count": 8,
   "metadata": {},
   "outputs": [],
   "source": [
    "test_images=tf.data.Dataset.list_files(r\"aug_data\\test\\images\\*.jpg\",shuffle=False)\n",
    "test_images=test_images.map(load_image)\n",
    "test_images=test_images.map(lambda x: tf.image.resize(x,(120,120)))\n",
    "test_images=test_images.map(lambda x: x/255.0)"
   ]
  },
  {
   "cell_type": "code",
   "execution_count": 9,
   "metadata": {},
   "outputs": [],
   "source": [
    "val_images=tf.data.Dataset.list_files(r\"aug_data\\val\\images\\*.jpg\",shuffle=False)\n",
    "val_images=val_images.map(load_image)\n",
    "val_images=val_images.map(lambda x: tf.image.resize(x,(120,120)))\n",
    "val_images=val_images.map(lambda x: x/255.0)"
   ]
  },
  {
   "cell_type": "code",
   "execution_count": null,
   "metadata": {},
   "outputs": [],
   "source": [
    "plt.imshow(train_images.as_numpy_iterator().next())"
   ]
  },
  {
   "cell_type": "markdown",
   "metadata": {},
   "source": [
    "### **Prepare Label**"
   ]
  },
  {
   "cell_type": "code",
   "execution_count": 11,
   "metadata": {},
   "outputs": [],
   "source": [
    "def load_label(label_path):\n",
    "    label=json.load(open(label_path.numpy(),\"r\",encoding=\"utf-8\"))\n",
    "    return [label[\"class\"]],label[\"bbox\"]"
   ]
  },
  {
   "cell_type": "code",
   "execution_count": 12,
   "metadata": {},
   "outputs": [],
   "source": [
    "train_label=tf.data.Dataset.list_files(r\"aug_data\\train\\labels\\*.json\",shuffle=False)\n",
    "train_label=train_label.map(lambda x: tf.py_function(load_label,[x],[tf.uint8,tf.float16]))"
   ]
  },
  {
   "cell_type": "code",
   "execution_count": 13,
   "metadata": {},
   "outputs": [],
   "source": [
    "test_label=tf.data.Dataset.list_files(r\"aug_data\\test\\labels\\*.json\",shuffle=False)\n",
    "test_label=test_label.map(lambda x: tf.py_function(load_label,[x],[tf.uint8,tf.float16]))"
   ]
  },
  {
   "cell_type": "code",
   "execution_count": 14,
   "metadata": {},
   "outputs": [],
   "source": [
    "val_label=tf.data.Dataset.list_files(r\"aug_data\\val\\labels\\*.json\",shuffle=False)\n",
    "val_label=val_label.map(lambda x: tf.py_function(load_label,[x],[tf.uint8,tf.float16]))"
   ]
  },
  {
   "cell_type": "code",
   "execution_count": 15,
   "metadata": {},
   "outputs": [
    {
     "data": {
      "text/plain": [
       "(array([1], dtype=uint8),\n",
       " array([0.633 , 0.3535, 0.9824, 0.903 ], dtype=float16))"
      ]
     },
     "execution_count": 15,
     "metadata": {},
     "output_type": "execute_result"
    }
   ],
   "source": [
    "train_label.as_numpy_iterator().next()"
   ]
  },
  {
   "cell_type": "code",
   "execution_count": 16,
   "metadata": {},
   "outputs": [
    {
     "data": {
      "text/plain": [
       "(3780, 3780, 780, 780, 840, 840)"
      ]
     },
     "execution_count": 16,
     "metadata": {},
     "output_type": "execute_result"
    }
   ],
   "source": [
    "len(train_images),len(train_label),len(test_images),len(test_label),len(val_images),len(val_label)"
   ]
  },
  {
   "cell_type": "markdown",
   "metadata": {},
   "source": [
    "#### Create Final Dataset"
   ]
  },
  {
   "cell_type": "code",
   "execution_count": 17,
   "metadata": {},
   "outputs": [],
   "source": [
    "train=tf.data.Dataset.zip((train_images,train_label))\n",
    "train=train.shuffle(5000)\n",
    "train=train.batch(8)\n",
    "train=train.prefetch(4)# to hadle System BottleNeck"
   ]
  },
  {
   "cell_type": "code",
   "execution_count": 18,
   "metadata": {},
   "outputs": [],
   "source": [
    "test=tf.data.Dataset.zip((test_images,test_label))\n",
    "test=test.shuffle(1300)\n",
    "test=test.batch(8)\n",
    "test=test.prefetch(4)# to hadle System BottleNeck"
   ]
  },
  {
   "cell_type": "code",
   "execution_count": 19,
   "metadata": {},
   "outputs": [],
   "source": [
    "val=tf.data.Dataset.zip((val_images,val_label))\n",
    "val=val.shuffle(1000)\n",
    "val=val.batch(8)\n",
    "val=val.prefetch(4)# to hadle System BottleNeck"
   ]
  },
  {
   "cell_type": "code",
   "execution_count": 20,
   "metadata": {},
   "outputs": [
    {
     "data": {
      "text/plain": [
       "(array([[0],\n",
       "        [1],\n",
       "        [1],\n",
       "        [1],\n",
       "        [1],\n",
       "        [1],\n",
       "        [1],\n",
       "        [1]], dtype=uint8),\n",
       " array([[0.    , 0.    , 0.    , 0.    ],\n",
       "        [0.7046, 0.142 , 1.    , 0.6294],\n",
       "        [0.    , 0.    , 0.5796, 0.844 ],\n",
       "        [0.2185, 0.1924, 0.5723, 0.674 ],\n",
       "        [0.4983, 0.14  , 0.8975, 0.6997],\n",
       "        [0.546 , 0.2046, 0.968 , 0.7334],\n",
       "        [0.57  , 0.324 , 0.9546, 0.8403],\n",
       "        [0.1731, 0.1552, 0.533 , 0.6016]], dtype=float16))"
      ]
     },
     "execution_count": 20,
     "metadata": {},
     "output_type": "execute_result"
    }
   ],
   "source": [
    "train.as_numpy_iterator().next()[1]"
   ]
  },
  {
   "cell_type": "code",
   "execution_count": 21,
   "metadata": {},
   "outputs": [],
   "source": [
    "train_batch=train.as_numpy_iterator()\n"
   ]
  },
  {
   "cell_type": "code",
   "execution_count": 22,
   "metadata": {},
   "outputs": [],
   "source": [
    "res=train_batch.next()"
   ]
  },
  {
   "cell_type": "code",
   "execution_count": 23,
   "metadata": {},
   "outputs": [
    {
     "data": {
      "text/plain": [
       "(120, 120, 3)"
      ]
     },
     "execution_count": 23,
     "metadata": {},
     "output_type": "execute_result"
    }
   ],
   "source": [
    "res[0][0].shape"
   ]
  },
  {
   "cell_type": "code",
   "execution_count": 24,
   "metadata": {},
   "outputs": [
    {
     "data": {
      "text/plain": [
       "array([0.3203, 0.1285, 0.7505, 0.682 ], dtype=float16)"
      ]
     },
     "execution_count": 24,
     "metadata": {},
     "output_type": "execute_result"
    }
   ],
   "source": [
    "res[1][1][1]"
   ]
  },
  {
   "cell_type": "code",
   "execution_count": 25,
   "metadata": {},
   "outputs": [
    {
     "data": {
      "text/plain": [
       "(22, 4)"
      ]
     },
     "execution_count": 25,
     "metadata": {},
     "output_type": "execute_result"
    }
   ],
   "source": [
    "sample_coords=res[1][1][2]\n",
    "tuple(np.multiply(sample_coords[:2],[120,120]).astype(int))"
   ]
  },
  {
   "cell_type": "code",
   "execution_count": null,
   "metadata": {},
   "outputs": [],
   "source": [
    "## Viwe Image\n",
    "fig,ax=plt.subplots(ncols=4,figsize=(10,10))\n",
    "for idx in range(4):\n",
    "    sample_image=res[0][idx]\n",
    "    sample_coords=res[1][1][idx]\n",
    "    # Convert the NumPy array to a UMat object\n",
    "    sample_image_umat = cv2.UMat(sample_image)\n",
    "    cv2.rectangle(sample_image_umat,\n",
    "                  tuple(np.multiply(sample_coords[:2],[120,120]).astype(int)),\n",
    "                  tuple(np.multiply(sample_coords[2:],[120,120]).astype(int)),\n",
    "                  (255,0,0),2)\n",
    "    # Convert the UMat object back to a NumPy array for displaying with matplotlib\n",
    "    sample_image_with_rect = sample_image_umat.get()\n",
    "    ax[idx].set_title(str(res[1][0][idx]))\n",
    "    ax[idx].imshow(sample_image_with_rect)\n",
    "plt.show()  "
   ]
  },
  {
   "cell_type": "code",
   "execution_count": 27,
   "metadata": {},
   "outputs": [
    {
     "data": {
      "text/plain": [
       "(array([[1],\n",
       "        [1],\n",
       "        [1],\n",
       "        [1],\n",
       "        [1],\n",
       "        [1],\n",
       "        [1],\n",
       "        [1]], dtype=uint8),\n",
       " array([[0.2261, 0.1492, 0.625 , 0.723 ],\n",
       "        [0.3203, 0.1285, 0.7505, 0.682 ],\n",
       "        [0.1838, 0.0349, 0.515 , 0.4773],\n",
       "        [0.722 , 0.1599, 1.    , 0.629 ],\n",
       "        [0.    , 0.2434, 0.3918, 0.8174],\n",
       "        [0.1741, 0.199 , 0.528 , 0.6807],\n",
       "        [0.    , 0.1469, 0.3357, 0.5586],\n",
       "        [0.    , 0.204 , 0.2656, 0.679 ]], dtype=float16))"
      ]
     },
     "execution_count": 27,
     "metadata": {},
     "output_type": "execute_result"
    }
   ],
   "source": [
    "res[1]"
   ]
  },
  {
   "cell_type": "markdown",
   "metadata": {},
   "source": [
    "### **Build Model**"
   ]
  },
  {
   "cell_type": "markdown",
   "metadata": {},
   "source": [
    "#### Functional API"
   ]
  },
  {
   "cell_type": "code",
   "execution_count": 28,
   "metadata": {},
   "outputs": [],
   "source": [
    "from tensorflow.keras.models import Model\n",
    "from tensorflow.keras.layers import Input, Dense, Flatten, Conv2D, Dropout, GlobalMaxPooling2D\n",
    "from tensorflow.keras.applications import VGG16"
   ]
  },
  {
   "cell_type": "code",
   "execution_count": 29,
   "metadata": {},
   "outputs": [],
   "source": [
    "vgg=VGG16(include_top=False,weights=\"imagenet\",classes=2)"
   ]
  },
  {
   "cell_type": "code",
   "execution_count": 30,
   "metadata": {},
   "outputs": [
    {
     "name": "stdout",
     "output_type": "stream",
     "text": [
      "Model: \"vgg16\"\n",
      "_________________________________________________________________\n",
      " Layer (type)                Output Shape              Param #   \n",
      "=================================================================\n",
      " input_1 (InputLayer)        [(None, None, None, 3)]   0         \n",
      "                                                                 \n",
      " block1_conv1 (Conv2D)       (None, None, None, 64)    1792      \n",
      "                                                                 \n",
      " block1_conv2 (Conv2D)       (None, None, None, 64)    36928     \n",
      "                                                                 \n",
      " block1_pool (MaxPooling2D)  (None, None, None, 64)    0         \n",
      "                                                                 \n",
      " block2_conv1 (Conv2D)       (None, None, None, 128)   73856     \n",
      "                                                                 \n",
      " block2_conv2 (Conv2D)       (None, None, None, 128)   147584    \n",
      "                                                                 \n",
      " block2_pool (MaxPooling2D)  (None, None, None, 128)   0         \n",
      "                                                                 \n",
      " block3_conv1 (Conv2D)       (None, None, None, 256)   295168    \n",
      "                                                                 \n",
      " block3_conv2 (Conv2D)       (None, None, None, 256)   590080    \n",
      "                                                                 \n",
      " block3_conv3 (Conv2D)       (None, None, None, 256)   590080    \n",
      "                                                                 \n",
      " block3_pool (MaxPooling2D)  (None, None, None, 256)   0         \n",
      "                                                                 \n",
      " block4_conv1 (Conv2D)       (None, None, None, 512)   1180160   \n",
      "                                                                 \n",
      " block4_conv2 (Conv2D)       (None, None, None, 512)   2359808   \n",
      "                                                                 \n",
      " block4_conv3 (Conv2D)       (None, None, None, 512)   2359808   \n",
      "                                                                 \n",
      " block4_pool (MaxPooling2D)  (None, None, None, 512)   0         \n",
      "                                                                 \n",
      " block5_conv1 (Conv2D)       (None, None, None, 512)   2359808   \n",
      "                                                                 \n",
      " block5_conv2 (Conv2D)       (None, None, None, 512)   2359808   \n",
      "                                                                 \n",
      " block5_conv3 (Conv2D)       (None, None, None, 512)   2359808   \n",
      "                                                                 \n",
      " block5_pool (MaxPooling2D)  (None, None, None, 512)   0         \n",
      "                                                                 \n",
      "=================================================================\n",
      "Total params: 14,714,688\n",
      "Trainable params: 14,714,688\n",
      "Non-trainable params: 0\n",
      "_________________________________________________________________\n"
     ]
    }
   ],
   "source": [
    "vgg.summary()"
   ]
  },
  {
   "cell_type": "code",
   "execution_count": 78,
   "metadata": {},
   "outputs": [],
   "source": [
    "def build_model():\n",
    "    input_layer=Input(shape=(120,120,3))\n",
    "    \n",
    "    vgg=VGG16(include_top=False,weights='imagenet')(input_layer)\n",
    "        \n",
    "    f1= GlobalMaxPooling2D()(vgg)\n",
    "    flat1=Flatten()(f1)\n",
    "    classs1=Dense(2048,activation=\"ReLU\")(flat1)\n",
    "    classs2=Dense(1, activation=\"sigmoid\")(classs1)\n",
    "    \n",
    "    f2=GlobalMaxPooling2D()(vgg)\n",
    "    flat2=Flatten()(f2)\n",
    "    reg1=Dense(2048, activation=\"ReLU\")(flat2)\n",
    "    reg2=Dense(4, activation=\"sigmoid\")(reg1)\n",
    "    \n",
    "    FaceTracker=Model(inputs=input_layer, outputs=[classs2,reg2])\n",
    "    return FaceTracker"
   ]
  },
  {
   "cell_type": "markdown",
   "metadata": {},
   "source": [
    "#### Teset out Neural Network"
   ]
  },
  {
   "cell_type": "code",
   "execution_count": 79,
   "metadata": {},
   "outputs": [],
   "source": [
    "FaceTracker=build_model()"
   ]
  },
  {
   "cell_type": "code",
   "execution_count": 80,
   "metadata": {},
   "outputs": [
    {
     "name": "stdout",
     "output_type": "stream",
     "text": [
      "Model: \"model_1\"\n",
      "__________________________________________________________________________________________________\n",
      " Layer (type)                   Output Shape         Param #     Connected to                     \n",
      "==================================================================================================\n",
      " input_4 (InputLayer)           [(None, 120, 120, 3  0           []                               \n",
      "                                )]                                                                \n",
      "                                                                                                  \n",
      " vgg16 (Functional)             (None, None, None,   14714688    ['input_4[0][0]']                \n",
      "                                512)                                                              \n",
      "                                                                                                  \n",
      " global_max_pooling2d_2 (Global  (None, 512)         0           ['vgg16[0][0]']                  \n",
      " MaxPooling2D)                                                                                    \n",
      "                                                                                                  \n",
      " global_max_pooling2d_3 (Global  (None, 512)         0           ['vgg16[0][0]']                  \n",
      " MaxPooling2D)                                                                                    \n",
      "                                                                                                  \n",
      " flatten_2 (Flatten)            (None, 512)          0           ['global_max_pooling2d_2[0][0]'] \n",
      "                                                                                                  \n",
      " flatten_3 (Flatten)            (None, 512)          0           ['global_max_pooling2d_3[0][0]'] \n",
      "                                                                                                  \n",
      " dense_4 (Dense)                (None, 2048)         1050624     ['flatten_2[0][0]']              \n",
      "                                                                                                  \n",
      " dense_6 (Dense)                (None, 2048)         1050624     ['flatten_3[0][0]']              \n",
      "                                                                                                  \n",
      " dense_5 (Dense)                (None, 1)            2049        ['dense_4[0][0]']                \n",
      "                                                                                                  \n",
      " dense_7 (Dense)                (None, 4)            8196        ['dense_6[0][0]']                \n",
      "                                                                                                  \n",
      "==================================================================================================\n",
      "Total params: 16,826,181\n",
      "Trainable params: 16,826,181\n",
      "Non-trainable params: 0\n",
      "__________________________________________________________________________________________________\n"
     ]
    }
   ],
   "source": [
    "FaceTracker.summary()"
   ]
  },
  {
   "cell_type": "code",
   "execution_count": 81,
   "metadata": {},
   "outputs": [],
   "source": [
    "X,y=train.as_numpy_iterator().next()"
   ]
  },
  {
   "cell_type": "code",
   "execution_count": 95,
   "metadata": {},
   "outputs": [
    {
     "data": {
      "text/plain": [
       "(8, 120, 120, 3)"
      ]
     },
     "execution_count": 95,
     "metadata": {},
     "output_type": "execute_result"
    }
   ],
   "source": [
    "X.shape"
   ]
  },
  {
   "cell_type": "code",
   "execution_count": 97,
   "metadata": {},
   "outputs": [
    {
     "name": "stdout",
     "output_type": "stream",
     "text": [
      "1/1 [==============================] - 53s 53s/step\n"
     ]
    }
   ],
   "source": [
    "classes, coords = FaceTracker.predict(X)"
   ]
  },
  {
   "cell_type": "code",
   "execution_count": 98,
   "metadata": {},
   "outputs": [
    {
     "data": {
      "text/plain": [
       "(array([[0.49494436],\n",
       "        [0.40639347],\n",
       "        [0.4445166 ],\n",
       "        [0.40090606],\n",
       "        [0.46624416],\n",
       "        [0.39886963],\n",
       "        [0.44104144],\n",
       "        [0.45189086]], dtype=float32),\n",
       " array([[0.43430734, 0.23069163, 0.46777973, 0.42772222],\n",
       "        [0.4420351 , 0.3141792 , 0.38987586, 0.45596474],\n",
       "        [0.4725512 , 0.31593767, 0.43777388, 0.45124245],\n",
       "        [0.44481784, 0.3182874 , 0.4206873 , 0.40785214],\n",
       "        [0.44634548, 0.24700366, 0.4160827 , 0.49307594],\n",
       "        [0.44183394, 0.23718491, 0.46311462, 0.42013496],\n",
       "        [0.45943668, 0.3049214 , 0.46803892, 0.42663047],\n",
       "        [0.43892553, 0.2744431 , 0.50161296, 0.42648745]], dtype=float32))"
      ]
     },
     "execution_count": 98,
     "metadata": {},
     "output_type": "execute_result"
    }
   ],
   "source": [
    "classes, coords"
   ]
  },
  {
   "cell_type": "markdown",
   "metadata": {},
   "source": [
    "### **Define Loss and Optimizers**"
   ]
  },
  {
   "cell_type": "code",
   "execution_count": 82,
   "metadata": {},
   "outputs": [
    {
     "data": {
      "text/plain": [
       "473"
      ]
     },
     "execution_count": 82,
     "metadata": {},
     "output_type": "execute_result"
    }
   ],
   "source": [
    "len(train)"
   ]
  },
  {
   "cell_type": "code",
   "execution_count": 83,
   "metadata": {},
   "outputs": [],
   "source": [
    "batches_per_epoch=len(train)\n",
    "lr_decay=(1./0.75 -1)/batches_per_epoch #leraningreate decrease gradually "
   ]
  },
  {
   "cell_type": "code",
   "execution_count": 84,
   "metadata": {},
   "outputs": [],
   "source": [
    "opt=tf.keras.optimizers.Adam(learning_rate=0.0001,decay=lr_decay)"
   ]
  },
  {
   "cell_type": "code",
   "execution_count": 85,
   "metadata": {},
   "outputs": [],
   "source": [
    "##### Create Localization loss and classififcxation loss \n",
    "#```For Boundiong Box````\n",
    "def localization_loss(y_true, yhat):            \n",
    "    delta_coord = tf.reduce_sum(tf.square(y_true[:,:2] - yhat[:,:2]))\n",
    "                  \n",
    "    h_true = y_true[:,3] - y_true[:,1] \n",
    "    w_true = y_true[:,2] - y_true[:,0] \n",
    "\n",
    "    h_pred = yhat[:,3] - yhat[:,1] \n",
    "    w_pred = yhat[:,2] - yhat[:,0] \n",
    "    \n",
    "    delta_size = tf.reduce_sum(tf.square(w_true - w_pred) + tf.square(h_true-h_pred))\n",
    "    \n",
    "    return delta_coord + delta_size"
   ]
  },
  {
   "cell_type": "code",
   "execution_count": 86,
   "metadata": {},
   "outputs": [],
   "source": [
    "classloss=tf.keras.losses.BinaryCrossentropy()\n",
    "regressorloss=localization_loss"
   ]
  },
  {
   "cell_type": "code",
   "execution_count": 99,
   "metadata": {},
   "outputs": [],
   "source": [
    "## Test out loss metrics"
   ]
  },
  {
   "cell_type": "code",
   "execution_count": 100,
   "metadata": {},
   "outputs": [
    {
     "data": {
      "text/plain": [
       "<tf.Tensor: shape=(), dtype=float32, numpy=3.7234006>"
      ]
     },
     "execution_count": 100,
     "metadata": {},
     "output_type": "execute_result"
    }
   ],
   "source": [
    "\n",
    "localization_loss(y[1], coords)"
   ]
  },
  {
   "cell_type": "code",
   "execution_count": 101,
   "metadata": {},
   "outputs": [
    {
     "data": {
      "text/plain": [
       "<tf.Tensor: shape=(), dtype=float32, numpy=0.74988663>"
      ]
     },
     "execution_count": 101,
     "metadata": {},
     "output_type": "execute_result"
    }
   ],
   "source": [
    "classloss(y[0], classes)"
   ]
  },
  {
   "cell_type": "code",
   "execution_count": 103,
   "metadata": {},
   "outputs": [
    {
     "data": {
      "text/plain": [
       "<tf.Tensor: shape=(), dtype=float32, numpy=3.7234006>"
      ]
     },
     "execution_count": 103,
     "metadata": {},
     "output_type": "execute_result"
    }
   ],
   "source": [
    "\n",
    "regressorloss(y[1], coords)"
   ]
  },
  {
   "cell_type": "markdown",
   "metadata": {},
   "source": [
    "#### **Train Model**"
   ]
  },
  {
   "cell_type": "code",
   "execution_count": 125,
   "metadata": {},
   "outputs": [],
   "source": [
    "class Facetracker(Model): \n",
    "    def __init__(self, FaceTracker,  **kwargs): \n",
    "        super().__init__(**kwargs)\n",
    "        self.model = FaceTracker\n",
    "\n",
    "    def compile(self, opt, classloss, localizationloss, **kwargs):\n",
    "        super().compile(**kwargs)\n",
    "        self.closs = classloss\n",
    "        self.lloss = localizationloss\n",
    "        self.opt = opt\n",
    "    \n",
    "    def train_step(self, batch, **kwargs): \n",
    "        \n",
    "        X, y = batch\n",
    "        \n",
    "        with tf.GradientTape() as tape: \n",
    "            classes, coords = self.model(X,training=False)\n",
    "            \n",
    "            batch_classloss = self.closs(y[0], classes)\n",
    "            batch_localizationloss = self.lloss(tf.cast(y[1], tf.float32), coords)\n",
    "            \n",
    "            total_loss = batch_localizationloss+0.5*batch_classloss\n",
    "            \n",
    "            grad = tape.gradient(total_loss, self.model.trainable_variables)\n",
    "        \n",
    "        opt.apply_gradients(zip(grad, self.model.trainable_variables))\n",
    "        \n",
    "        return {\"total_loss\":total_loss, \"class_loss\":batch_classloss, \"regress_loss\":batch_localizationloss}\n",
    "    \n",
    "    def test_step(self, batch, **kwargs): \n",
    "        X, y = batch\n",
    "        \n",
    "        classes, coords = self.model(X, training=False)\n",
    "        \n",
    "        batch_classloss = self.closs(y[0], classes)\n",
    "        batch_localizationloss = self.lloss(tf.cast(y[1], tf.float32), coords)\n",
    "        total_loss = batch_localizationloss+0.5*batch_classloss\n",
    "        \n",
    "        return {\"total_loss\":total_loss, \"class_loss\":batch_classloss, \"regress_loss\":batch_localizationloss}\n",
    "        \n",
    "    def call(self, X, **kwargs): \n",
    "        return self.model(X, **kwargs)"
   ]
  },
  {
   "cell_type": "code",
   "execution_count": 126,
   "metadata": {},
   "outputs": [],
   "source": [
    "tracker_model=Facetracker(FaceTracker)"
   ]
  },
  {
   "cell_type": "code",
   "execution_count": 127,
   "metadata": {},
   "outputs": [],
   "source": [
    "tracker_model.compile(opt,classloss,regressorloss)"
   ]
  },
  {
   "cell_type": "code",
   "execution_count": 128,
   "metadata": {},
   "outputs": [],
   "source": [
    "## Train"
   ]
  },
  {
   "cell_type": "code",
   "execution_count": 129,
   "metadata": {},
   "outputs": [],
   "source": [
    "logdir='logs'"
   ]
  },
  {
   "cell_type": "code",
   "execution_count": 130,
   "metadata": {},
   "outputs": [],
   "source": [
    "tensorboard_callback = tf.keras.callbacks.TensorBoard(log_dir=logdir)"
   ]
  },
  {
   "cell_type": "code",
   "execution_count": 131,
   "metadata": {},
   "outputs": [
    {
     "name": "stdout",
     "output_type": "stream",
     "text": [
      "Epoch 1/10\n"
     ]
    },
    {
     "name": "stdout",
     "output_type": "stream",
     "text": [
      "473/473 [==============================] - 62s 85ms/step - total_loss: 0.3652 - class_loss: 0.0840 - regress_loss: 0.3232 - val_total_loss: 0.1585 - val_class_loss: 0.0492 - val_regress_loss: 0.1339\n",
      "Epoch 2/10\n",
      "473/473 [==============================] - 42s 80ms/step - total_loss: 0.1443 - class_loss: 0.0396 - regress_loss: 0.1245 - val_total_loss: 0.0693 - val_class_loss: 0.0094 - val_regress_loss: 0.0646\n",
      "Epoch 3/10\n",
      "473/473 [==============================] - 42s 81ms/step - total_loss: 0.1078 - class_loss: 0.0285 - regress_loss: 0.0936 - val_total_loss: 0.0620 - val_class_loss: 0.0094 - val_regress_loss: 0.0573\n",
      "Epoch 4/10\n",
      "473/473 [==============================] - 42s 81ms/step - total_loss: 0.0607 - class_loss: 0.0146 - regress_loss: 0.0534 - val_total_loss: 0.0682 - val_class_loss: 0.0077 - val_regress_loss: 0.0643\n",
      "Epoch 5/10\n",
      "473/473 [==============================] - 42s 81ms/step - total_loss: 0.0497 - class_loss: 0.0096 - regress_loss: 0.0449 - val_total_loss: 0.1128 - val_class_loss: 0.0017 - val_regress_loss: 0.1120\n",
      "Epoch 6/10\n",
      "473/473 [==============================] - 42s 80ms/step - total_loss: 0.0310 - class_loss: 0.0080 - regress_loss: 0.0270 - val_total_loss: 0.1936 - val_class_loss: 8.1717e-04 - val_regress_loss: 0.1932\n",
      "Epoch 7/10\n",
      "473/473 [==============================] - 43s 81ms/step - total_loss: 0.0468 - class_loss: 0.0129 - regress_loss: 0.0404 - val_total_loss: 0.1573 - val_class_loss: 0.0021 - val_regress_loss: 0.1562\n",
      "Epoch 8/10\n",
      "473/473 [==============================] - 42s 80ms/step - total_loss: 0.0191 - class_loss: 0.0024 - regress_loss: 0.0179 - val_total_loss: 0.2053 - val_class_loss: 0.0581 - val_regress_loss: 0.1762\n",
      "Epoch 9/10\n",
      "473/473 [==============================] - 42s 80ms/step - total_loss: 0.0199 - class_loss: 0.0051 - regress_loss: 0.0173 - val_total_loss: 0.2070 - val_class_loss: 4.8620e-04 - val_regress_loss: 0.2068\n",
      "Epoch 10/10\n",
      "473/473 [==============================] - 41s 78ms/step - total_loss: 0.0077 - class_loss: 0.0015 - regress_loss: 0.0069 - val_total_loss: 0.1484 - val_class_loss: 1.0417e-04 - val_regress_loss: 0.1484\n"
     ]
    }
   ],
   "source": [
    "hist = tracker_model.fit(train, epochs=10, validation_data=val, callbacks=[tensorboard_callback])"
   ]
  },
  {
   "cell_type": "code",
   "execution_count": 132,
   "metadata": {},
   "outputs": [
    {
     "data": {
      "text/plain": [
       "{'total_loss': [0.028569001704454422,\n",
       "  0.024138623848557472,\n",
       "  0.047318149358034134,\n",
       "  0.02459545060992241,\n",
       "  0.013377029448747635,\n",
       "  0.004371095448732376,\n",
       "  0.016665393486618996,\n",
       "  0.00856536440551281,\n",
       "  0.0022613494656980038,\n",
       "  0.0015025733737275004],\n",
       " 'class_loss': [0.00010716564429458231,\n",
       "  0.00023551750928163528,\n",
       "  0.013651474379003048,\n",
       "  0.001878586015664041,\n",
       "  6.1989571804588195e-06,\n",
       "  0.002143941354006529,\n",
       "  0.008773804642260075,\n",
       "  0.00020568925538100302,\n",
       "  3.242644379497506e-05,\n",
       "  6.168018444441259e-05],\n",
       " 'regress_loss': [0.028515418991446495,\n",
       "  0.024020865559577942,\n",
       "  0.04049241170287132,\n",
       "  0.02365615777671337,\n",
       "  0.013373930007219315,\n",
       "  0.0032991247717291117,\n",
       "  0.012278491631150246,\n",
       "  0.008462519384920597,\n",
       "  0.0022451363038271666,\n",
       "  0.0014717333251610398],\n",
       " 'val_total_loss': [0.15849579870700836,\n",
       "  0.06929197907447815,\n",
       "  0.061988379806280136,\n",
       "  0.06818394362926483,\n",
       "  0.11280407011508942,\n",
       "  0.19364775717258453,\n",
       "  0.15729646384716034,\n",
       "  0.2052517682313919,\n",
       "  0.20703181624412537,\n",
       "  0.14843012392520905],\n",
       " 'val_class_loss': [0.049205441027879715,\n",
       "  0.009445073083043098,\n",
       "  0.009354001842439175,\n",
       "  0.007736241444945335,\n",
       "  0.0016722924774512649,\n",
       "  0.000817173917312175,\n",
       "  0.0021205348894000053,\n",
       "  0.05806181579828262,\n",
       "  0.0004861952329520136,\n",
       "  0.00010416993609396741],\n",
       " 'val_regress_loss': [0.13389307260513306,\n",
       "  0.06456944346427917,\n",
       "  0.05731137841939926,\n",
       "  0.06431582570075989,\n",
       "  0.11196792125701904,\n",
       "  0.19323916733264923,\n",
       "  0.1562362015247345,\n",
       "  0.1762208640575409,\n",
       "  0.20678871870040894,\n",
       "  0.14837804436683655]}"
      ]
     },
     "execution_count": 132,
     "metadata": {},
     "output_type": "execute_result"
    }
   ],
   "source": [
    "hist.history"
   ]
  },
  {
   "cell_type": "code",
   "execution_count": 133,
   "metadata": {},
   "outputs": [
    {
     "data": {
      "image/png": "[encoded data removed]",
      "text/plain": [
       "<Figure size 2000x500 with 3 Axes>"
      ]
     },
     "metadata": {},
     "output_type": "display_data"
    }
   ],
   "source": [
    "fig, ax = plt.subplots(ncols=3, figsize=(20,5))\n",
    "\n",
    "ax[0].plot(hist.history['total_loss'], color='teal', label='loss')\n",
    "ax[0].plot(hist.history['val_total_loss'], color='orange', label='val loss')\n",
    "ax[0].title.set_text('Loss')\n",
    "ax[0].legend()\n",
    "\n",
    "ax[1].plot(hist.history['class_loss'], color='teal', label='class loss')\n",
    "ax[1].plot(hist.history['val_class_loss'], color='orange', label='val class loss')\n",
    "ax[1].title.set_text('Classification Loss')\n",
    "ax[1].legend()\n",
    "\n",
    "ax[2].plot(hist.history['regress_loss'], color='teal', label='regress loss')\n",
    "ax[2].plot(hist.history['val_regress_loss'], color='orange', label='val regress loss')\n",
    "ax[2].title.set_text('Regression Loss')\n",
    "ax[2].legend()\n",
    "\n",
    "plt.show()\n"
   ]
  },
  {
   "cell_type": "code",
   "execution_count": 134,
   "metadata": {},
   "outputs": [],
   "source": [
    "from tensorflow.keras.models import load_model"
   ]
  },
  {
   "cell_type": "code",
   "execution_count": 136,
   "metadata": {},
   "outputs": [
    {
     "name": "stdout",
     "output_type": "stream",
     "text": [
      "WARNING:tensorflow:Compiled the loaded model, but the compiled metrics have yet to be built. `model.compile_metrics` will be empty until you train or evaluate the model.\n"
     ]
    }
   ],
   "source": [
    "FaceTracker.save('facetracker.h5')"
   ]
  },
  {
   "cell_type": "code",
   "execution_count": 137,
   "metadata": {},
   "outputs": [],
   "source": [
    "test_data = test.as_numpy_iterator()"
   ]
  },
  {
   "cell_type": "code",
   "execution_count": null,
   "metadata": {},
   "outputs": [],
   "source": [
    "test_sample = test_data.next()\n",
    "yhat = FaceTracker.predict(test_sample[0])\n",
    "fig, ax = plt.subplots(ncols=4, figsize=(20,20))\n",
    "for idx in range(4): \n",
    "    sample_image = test_sample[0][idx]\n",
    "    sample_coords = yhat[1][idx]\n",
    "    umat=cv2.UMat(sample_image)\n",
    "    if yhat[0][idx] > 0.9:\n",
    "        cv2.rectangle(umat, \n",
    "                      tuple(np.multiply(sample_coords[:2], [120,120]).astype(int)),\n",
    "                      tuple(np.multiply(sample_coords[2:], [120,120]).astype(int)), \n",
    "                            (255,0,0), 2)\n",
    "    sample_image=umat.get()\n",
    "    \n",
    "    ax[idx].imshow(sample_image)"
   ]
  },
  {
   "cell_type": "code",
   "execution_count": 141,
   "metadata": {},
   "outputs": [
    {
     "data": {
      "text/plain": [
       "[array([[9.9981028e-01],\n",
       "        [9.9998176e-01],\n",
       "        [9.9980789e-01],\n",
       "        [9.9999976e-01],\n",
       "        [9.9963796e-01],\n",
       "        [9.9998677e-01],\n",
       "        [9.9999225e-01],\n",
       "        [4.7668374e-05]], dtype=float32),\n",
       " array([[2.04652455e-02, 1.66609332e-01, 3.47766399e-01, 5.58486640e-01],\n",
       "        [2.67572224e-01, 3.31879437e-01, 7.46470213e-01, 8.83076608e-01],\n",
       "        [1.69479311e-01, 1.74095362e-01, 4.93384391e-01, 5.58300674e-01],\n",
       "        [1.26699535e-02, 1.28202975e-01, 6.91447973e-01, 9.14419651e-01],\n",
       "        [5.34039959e-02, 1.45055428e-01, 3.85059148e-01, 5.50551414e-01],\n",
       "        [4.22875196e-01, 9.54255834e-02, 8.35563898e-01, 6.61579788e-01],\n",
       "        [5.36596239e-01, 1.11275174e-01, 9.71458912e-01, 6.55468464e-01],\n",
       "        [4.81032621e-04, 5.33573562e-04, 6.92026399e-04, 1.10031012e-03]],\n",
       "       dtype=float32)]"
      ]
     },
     "execution_count": 141,
     "metadata": {},
     "output_type": "execute_result"
    }
   ],
   "source": [
    "yhat"
   ]
  }
 ],
 "metadata": {
  "kernelspec": {
   "display_name": "FaceDetection",
   "language": "python",
   "name": "python3"
  },
  "language_info": {
   "codemirror_mode": {
    "name": "ipython",
    "version": 3
   },
   "file_extension": ".py",
   "mimetype": "text/x-python",
   "name": "python",
   "nbconvert_exporter": "python",
   "pygments_lexer": "ipython3",
   "version": "3.10.14"
  }
 },
 "nbformat": 4,
 "nbformat_minor": 2
}
